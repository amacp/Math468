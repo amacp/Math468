{
 "cells": [
  {
   "cell_type": "markdown",
   "id": "7a7b11d1-e390-437c-910f-80ccb179956d",
   "metadata": {},
   "source": [
    "## Lecture 5.2: Molecular Evolution"
   ]
  },
  {
   "cell_type": "code",
   "execution_count": 5,
   "id": "302ce083-0e92-4be9-8314-7c70cbdb5a50",
   "metadata": {},
   "outputs": [],
   "source": [
    "import numpy as np\n",
    "import math\n",
    "import matplotlib.pyplot as plt\n",
    "import random\n",
    "from scipy.special import comb"
   ]
  },
  {
   "cell_type": "markdown",
   "id": "09da89d5-3d1a-4ad5-9707-b99d16276b5a",
   "metadata": {},
   "source": [
    "****\n",
    "<span style=\"color:red;\">**Example: 5.6** K80</span>\n",
    "\n",
    "**Consider the Kimura 1980 Model for molecular evolution:**\n",
    "\n",
    "**2. Consider sequences with 10 bases, and simulate molecular evolution for $t=20$ time steps assuming $\\alpha=0.1$ and $\\beta=0.04$.** \n",
    "\n",
    "The K80 model describes evolution at every base, when considering multiple bases we assume evolution is independent at each."
   ]
  },
  {
   "cell_type": "markdown",
   "id": "ea053b02-ac3d-437e-ad8b-3fd866b3dd73",
   "metadata": {},
   "source": [
    "We can imagine simulating sequences as placing mutations on a timeline from the ancestral sequence to the present day (t=20). The simulation itself can be carried out with a Gillespie simulation.  \n",
    "\n",
    "*Step 0:* Initialization, simulate a random ancestral sequence from the stationary distribution.  Recall that the stationary distribution for this model is simply:\n",
    "$$\n",
    "\\vec{\\pi}=\\left[\\frac{1}{4},\\frac{1}{4},\\frac{1}{4},\\frac{1}{4}\\right]\n",
    "$$\n",
    "\n",
    "*Step 1:* Calculate the total rate at which mutations occur.  This calculation is relatively easy in the K80 model given that no matter what the base is the rate of mutating away from that base is $\\alpha+2\\beta$ such that the total mutation rate is: $n_{sites}*(\\alpha+2\\beta)$, in a more complex model this would require summing over the bases.  Let $X_i$ be the state of the $i^{th}$ base, then:\n",
    "\n",
    "$$\n",
    "\\lambda_{Tot}=\\sum_i -Q_{X_{i},X_{i}}\n",
    "$$\n",
    "\n",
    "Given the total mutation rate, simulate the time to the next event from the exponential distribution.  \n",
    "\n",
    "Update the time\n",
    "\n",
    "*Step 2:* Choose the event/mutation to have happened by drawing the base and then the type mutation relative to their respective probabilities. This is most efficiently done in two steps by first choosing a base: $\\Pr(i)=\\frac{-Q_{X_{i},X_{i}}}{\\lambda_{Tot}}$ and then choosing a mutation type $\\Pr(j)=\\frac{Q_{X_{i},j}}{-Q_{X_{i},X_{i}}}$\n",
    "\n",
    "Update the state\n",
    "\n",
    "*Repeat Step 1 and 2 Until end time*"
   ]
  },
  {
   "cell_type": "code",
   "execution_count": 11,
   "id": "28709b86-7b19-4ea1-9cdd-f2022a06a486",
   "metadata": {},
   "outputs": [
    {
     "name": "stdout",
     "output_type": "stream",
     "text": [
      "[1 2 3 3 1 1 4 2 3 3 3 3 3 4 1 1 3 4 4 4 2 3 1 3 2 1 1 1 2 4 4 4 1 2 4 3 1\n",
      " 3 4 1 3 2 4 3 1 4 4 2 2 3]\n"
     ]
    }
   ],
   "source": [
    "# Define the possible nucleotides\n",
    "nucleotides = [0, 1, 2, 3] #(0:T, 1:C, 2: A, 3: G)\n",
    "\n",
    "# Simulate a sequence of 20 letters with equal probability\n",
    "sequence = random.choices(nucleotides, k=50)\n",
    "\n",
    "# Print the generated sequence\n",
    "print(np.array(sequence))\n"
   ]
  },
  {
   "cell_type": "code",
   "execution_count": 144,
   "id": "b30e5ac3-71f2-4b47-b7f4-a3680469033a",
   "metadata": {},
   "outputs": [],
   "source": [
    "def simJC69(alpha, beta, tMax):\n",
    "    QMtrx=np.array([[-(alpha+2*beta), alpha, beta, beta],\n",
    "                    [alpha,-(alpha+2*beta),beta,beta],\n",
    "                    [beta,beta,-(alpha+2*beta),alpha],\n",
    "                    [beta,beta,alpha,-(alpha+2*beta)]])\n",
    "    ##Simulate a random sequence \n",
    "    nucleotides = [0, 1, 2, 3] #(0:T, 1:C, 2: A, 3: G)\n",
    "    nBase=10\n",
    "    seq = random.choices(nucleotides, k=nBase)\n",
    "    t=0\n",
    "    \n",
    "    print(round(t,3))\n",
    "    print(seq)\n",
    "    # Calcualte the time until the first event\n",
    "    rateTot=sum(-QMtrx[seq[i],seq[i]] for i in range(nBase))\n",
    "    Deltat=np.random.exponential(scale=1/rateTot)\n",
    "    while t+Deltat <= tMax:\n",
    "        ## Update time\n",
    "        t+=Deltat\n",
    "        # Choose a focal base\n",
    "        weight1=np.array([-QMtrx[seq[i],seq[i]]/rateTot for i in range(nBase)])\n",
    "        base=np.random.choice(range(nBase), p=weight1)\n",
    "        #Choose a nucleotide\n",
    "        i=seq[base] #current nucleotide at the focal base\n",
    "        altNeuc=np.array([j for j in range(4) if j != i])\n",
    "        weight2=np.array([QMtrx[i,j] for j in range(4) if j != i])\n",
    "        neuc=np.random.choice(altNeuc, p=weight2/np.sum(weight2))\n",
    "        ## Update Sequence\n",
    "        seq[base]=neuc\n",
    "        print(round(t,3))\n",
    "        print(seq)\n",
    "        # Draw new Delta t\n",
    "        rateTot=sum(-QMtrx[seq[i],seq[i]] for i in range(nBase))\n",
    "        Deltat=np.random.exponential(scale=1/rateTot)\n",
    "    return seq\n"
   ]
  },
  {
   "cell_type": "code",
   "execution_count": 145,
   "id": "eb0899c6-3594-49a5-b28f-c2180bc2c419",
   "metadata": {},
   "outputs": [
    {
     "name": "stdout",
     "output_type": "stream",
     "text": [
      "0\n",
      "[3, 3, 1, 3, 1, 2, 1, 0, 3, 3]\n",
      "0.032\n",
      "[3, 2, 1, 3, 1, 2, 1, 0, 3, 3]\n",
      "0.093\n",
      "[3, 2, 1, 3, 1, 3, 1, 0, 3, 3]\n",
      "0.341\n",
      "[3, 2, 1, 3, 1, 3, 1, 1, 3, 3]\n",
      "1.999\n",
      "[3, 2, 1, 3, 1, 3, 1, 2, 3, 3]\n",
      "2.198\n",
      "[3, 3, 1, 3, 1, 3, 1, 2, 3, 3]\n",
      "3.751\n",
      "[3, 3, 1, 3, 1, 3, 1, 0, 3, 3]\n",
      "4.408\n",
      "[3, 3, 1, 3, 1, 3, 1, 3, 3, 3]\n",
      "5.603\n",
      "[3, 1, 1, 3, 1, 3, 1, 3, 3, 3]\n",
      "5.996\n",
      "[3, 0, 1, 3, 1, 3, 1, 3, 3, 3]\n",
      "6.103\n",
      "[3, 0, 1, 3, 0, 3, 1, 3, 3, 3]\n",
      "6.258\n",
      "[0, 0, 1, 3, 0, 3, 1, 3, 3, 3]\n",
      "6.278\n",
      "[0, 0, 1, 3, 0, 3, 1, 3, 2, 3]\n",
      "6.667\n",
      "[0, 0, 1, 3, 0, 3, 1, 3, 0, 3]\n",
      "6.843\n",
      "[0, 0, 1, 3, 0, 2, 1, 3, 0, 3]\n",
      "7.077\n",
      "[0, 0, 3, 3, 0, 2, 1, 3, 0, 3]\n",
      "7.368\n",
      "[0, 0, 3, 3, 0, 3, 1, 3, 0, 3]\n",
      "7.836\n",
      "[0, 0, 3, 3, 0, 3, 1, 2, 0, 3]\n",
      "7.98\n",
      "[0, 0, 3, 3, 0, 3, 1, 0, 0, 3]\n",
      "8.201\n",
      "[0, 0, 3, 3, 1, 3, 1, 0, 0, 3]\n",
      "8.22\n",
      "[0, 0, 3, 3, 1, 3, 1, 0, 0, 2]\n",
      "8.23\n",
      "[0, 0, 3, 3, 1, 3, 1, 2, 0, 2]\n",
      "8.5\n",
      "[0, 0, 3, 3, 1, 2, 1, 2, 0, 2]\n",
      "8.705\n",
      "[0, 0, 0, 3, 1, 2, 1, 2, 0, 2]\n",
      "9.49\n",
      "[3, 0, 0, 3, 1, 2, 1, 2, 0, 2]\n"
     ]
    }
   ],
   "source": [
    "temp=simJC69(0.1, 0.04, 10)"
   ]
  },
  {
   "cell_type": "markdown",
   "id": "caabf6fb-9acd-476f-aa4e-51ea08ec091f",
   "metadata": {},
   "source": [
    "**3. Do the observed frequencies of each nucleotide at the end of your simulation match your expectations from the stationary distribution?**"
   ]
  },
  {
   "cell_type": "code",
   "execution_count": 147,
   "id": "98c3d85e-d4a7-4ac1-8f97-d55d5406d84d",
   "metadata": {},
   "outputs": [
    {
     "name": "stdout",
     "output_type": "stream",
     "text": [
      "Freq of 0: 0.3\n",
      "Freq of 1: 0.2\n",
      "Freq of 2: 0.3\n",
      "Freq of 3: 0.2\n"
     ]
    }
   ],
   "source": [
    "# Count occurrences of i from 0 to 3\n",
    "counts = {i: temp.count(i) for i in range(4)}\n",
    "\n",
    "# Print the counts\n",
    "for i, count in counts.items():\n",
    "    print(f\"Freq of {i}: {count/len(temp)}\")"
   ]
  },
  {
   "cell_type": "markdown",
   "id": "e5a07ec0-607f-4609-8d97-ea18c6103793",
   "metadata": {},
   "source": [
    "The frequencies are close to 1/4 or what we would expect."
   ]
  }
 ],
 "metadata": {
  "kernelspec": {
   "display_name": "Python 3 (ipykernel)",
   "language": "python",
   "name": "python3"
  },
  "language_info": {
   "codemirror_mode": {
    "name": "ipython",
    "version": 3
   },
   "file_extension": ".py",
   "mimetype": "text/x-python",
   "name": "python",
   "nbconvert_exporter": "python",
   "pygments_lexer": "ipython3",
   "version": "3.11.6"
  }
 },
 "nbformat": 4,
 "nbformat_minor": 5
}
