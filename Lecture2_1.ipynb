{
 "cells": [
  {
   "cell_type": "markdown",
   "id": "1bda9b12-1542-4e89-b3a8-c21fea9f806b",
   "metadata": {},
   "source": [
    "# Lecture 2_1: Transition Probability Matricies"
   ]
  },
  {
   "cell_type": "markdown",
   "id": "d4b53854-5dd5-410e-b636-88d6b5262ac0",
   "metadata": {},
   "source": [
    "## Matrix Multiplication\n",
    "\n",
    "We start by inputting our transition probability matrix."
   ]
  },
  {
   "cell_type": "code",
   "execution_count": 3,
   "id": "4f80c92e-8f75-464a-a41f-e1c3de38cb7d",
   "metadata": {},
   "outputs": [
    {
     "name": "stdout",
     "output_type": "stream",
     "text": [
      "[[0.7 0.3 0. ]\n",
      " [0.4 0.5 0.1]\n",
      " [0.  0.3 0.7]]\n",
      "[[0, 1, 0]]\n"
     ]
    }
   ],
   "source": [
    "import numpy as np\n",
    "# Transition probability matrix\n",
    "matrix_a = np.array([[0.7, 0.3,0], [0.4, 0.5,0.1],[0,0.3,0.7]])\n",
    "#Initial state vector\n",
    "vec_v=[[0,1,0]]\n",
    "print(matrix_a)\n",
    "print(vec_v)"
   ]
  },
  {
   "cell_type": "markdown",
   "id": "952c1653-b446-4e91-aeef-88397d5f5b76",
   "metadata": {},
   "source": [
    "Let's first discuss matrix opperations that we will be using:\n",
    "We perform **matrix multiplication** by taking the dot product"
   ]
  },
  {
   "cell_type": "code",
   "execution_count": 3,
   "id": "1c467252-24cb-44d7-b278-853d1cf168e0",
   "metadata": {},
   "outputs": [
    {
     "data": {
      "text/plain": [
       "array([[0.61, 0.36, 0.03],\n",
       "       [0.48, 0.4 , 0.12],\n",
       "       [0.12, 0.36, 0.52]])"
      ]
     },
     "execution_count": 3,
     "metadata": {},
     "output_type": "execute_result"
    }
   ],
   "source": [
    "np.dot(matrix_a, matrix_a)"
   ]
  },
  {
   "cell_type": "markdown",
   "id": "113b0832-b588-4bb0-a06a-70b97cb7a897",
   "metadata": {},
   "source": [
    "We will be doing a lot of matrix multiplication in this course so we may want to use the shortcut of an @ sign"
   ]
  },
  {
   "cell_type": "code",
   "execution_count": 12,
   "id": "5040f565-bb7c-4e3b-b811-993461d3c194",
   "metadata": {},
   "outputs": [
    {
     "name": "stdout",
     "output_type": "stream",
     "text": [
      "[[0.61 0.36 0.03]\n",
      " [0.48 0.4  0.12]\n",
      " [0.12 0.36 0.52]]\n"
     ]
    }
   ],
   "source": [
    "matrix_a2=matrix_a @ matrix_a\n",
    "print(matrix_a2)"
   ]
  },
  {
   "cell_type": "code",
   "execution_count": 10,
   "id": "5edd7258-d037-4065-8377-90a0e3c907d6",
   "metadata": {},
   "outputs": [
    {
     "name": "stdout",
     "output_type": "stream",
     "text": [
      "[[0.571 0.372 0.057]\n",
      " [0.496 0.38  0.124]\n",
      " [0.228 0.372 0.4  ]]\n"
     ]
    }
   ],
   "source": [
    "matrix_a3=matrix_a @ matrix_a @ matrix_a\n",
    "print(matrix_a3)"
   ]
  },
  {
   "cell_type": "markdown",
   "id": "ae3172b4-7b68-42ab-95c5-84c2142f1a23",
   "metadata": {},
   "source": [
    "We can take the power of a matrix by:"
   ]
  },
  {
   "cell_type": "code",
   "execution_count": 12,
   "id": "3dea4020-73ec-4b28-8f40-3f6b05ddd1d1",
   "metadata": {},
   "outputs": [
    {
     "data": {
      "text/plain": [
       "array([[0.571, 0.372, 0.057],\n",
       "       [0.496, 0.38 , 0.124],\n",
       "       [0.228, 0.372, 0.4  ]])"
      ]
     },
     "execution_count": 12,
     "metadata": {},
     "output_type": "execute_result"
    }
   ],
   "source": [
    "from numpy.linalg import matrix_power\n",
    "matrix_power(matrix_a, 3)"
   ]
  },
  {
   "cell_type": "markdown",
   "id": "477e643e-f945-4d1a-83d3-6c93f0397c2e",
   "metadata": {},
   "source": [
    "We can multiply a matrix by a row vector on the left by:"
   ]
  },
  {
   "cell_type": "code",
   "execution_count": 18,
   "id": "013003fb-ad7d-402c-beb5-002434e9b16a",
   "metadata": {},
   "outputs": [
    {
     "name": "stdout",
     "output_type": "stream",
     "text": [
      "[[0.4 0.5 0.1]]\n"
     ]
    }
   ],
   "source": [
    "vec_v1=vec_v @ matrix_a\n",
    "print(vec_v1)"
   ]
  },
  {
   "cell_type": "markdown",
   "id": "76be1fee-5830-4572-a202-fa86b5703ed3",
   "metadata": {},
   "source": [
    "Note that we can't multiply on the right."
   ]
  },
  {
   "cell_type": "code",
   "execution_count": 2,
   "id": "8923d435-2c54-4ed0-a5b3-a6fbc9a65163",
   "metadata": {},
   "outputs": [
    {
     "ename": "ValueError",
     "evalue": "matmul: Input operand 1 has a mismatch in its core dimension 0, with gufunc signature (n?,k),(k,m?)->(n?,m?) (size 1 is different from 3)",
     "output_type": "error",
     "traceback": [
      "\u001b[0;31m---------------------------------------------------------------------------\u001b[0m",
      "\u001b[0;31mValueError\u001b[0m                                Traceback (most recent call last)",
      "Cell \u001b[0;32mIn[2], line 1\u001b[0m\n\u001b[0;32m----> 1\u001b[0m \u001b[43mmatrix_a\u001b[49m\u001b[43m \u001b[49m\u001b[38;5;241;43m@\u001b[39;49m\u001b[43m \u001b[49m\u001b[43mvec_v\u001b[49m\n",
      "\u001b[0;31mValueError\u001b[0m: matmul: Input operand 1 has a mismatch in its core dimension 0, with gufunc signature (n?,k),(k,m?)->(n?,m?) (size 1 is different from 3)"
     ]
    }
   ],
   "source": [
    "matrix_a @ vec_v"
   ]
  },
  {
   "cell_type": "markdown",
   "id": "5cb6c171-d48c-4f0a-bf7b-ca994f228a1d",
   "metadata": {},
   "source": [
    "## Example 2.3: Ecological State "
   ]
  },
  {
   "cell_type": "code",
   "execution_count": 4,
   "id": "d60243fd-b4b4-4740-af84-a00a3e6b0880",
   "metadata": {},
   "outputs": [],
   "source": [
    "# Transition probability matrix\n",
    "matrix_a = np.array([[0.7, 0.3,0], [0.4, 0.5,0.1],[0,0.3,0.7]])\n",
    "#Initial state vector\n",
    "vec_v=[[0,1,0]]"
   ]
  },
  {
   "cell_type": "markdown",
   "id": "94889c5f-43e6-4936-af59-62dbfcfbb9b1",
   "metadata": {},
   "source": [
    "1. **Given the state vector (vec_v) and transition matrix (matrix_a), what is the probability that an ecosystem where both species currently coexists has only one species 2 years later, how about 3 years later?**"
   ]
  },
  {
   "cell_type": "markdown",
   "id": "9daa4f9a-a538-4d23-9ee5-06cdb11642f4",
   "metadata": {},
   "source": [
    "Let's look at next year first by multiplying:\n",
    "\n",
    "$$\n",
    "\\vec{V}(1)=\\vec{V}(0).\\mathbf{P}\n",
    "$$"
   ]
  },
  {
   "cell_type": "code",
   "execution_count": 7,
   "id": "feb935c6-eea8-40cc-a24f-9ec954abe180",
   "metadata": {},
   "outputs": [
    {
     "name": "stdout",
     "output_type": "stream",
     "text": [
      "[[0.4 0.5 0.1]]\n"
     ]
    }
   ],
   "source": [
    "vec_v1=vec_v@matrix_a\n",
    "print(vec_v1)"
   ]
  },
  {
   "cell_type": "markdown",
   "id": "c08cd2ce-ed88-4e14-8e7b-7fd1cbeb3754",
   "metadata": {},
   "source": [
    "This tells us that next year 40% of habitats will have only species A, 10% will only have species B, and 50% will have co-existence.\n",
    "\n",
    "We can get year two by:\n",
    "\n",
    "$$\n",
    "\\vec{V}(2)=\\vec{V}(1).\\mathbf{P}\n",
    "$$"
   ]
  },
  {
   "cell_type": "code",
   "execution_count": 9,
   "id": "dc450576-d14a-4a43-8686-1bc04f0901e5",
   "metadata": {},
   "outputs": [
    {
     "name": "stdout",
     "output_type": "stream",
     "text": [
      "[[0.48 0.4  0.12]]\n"
     ]
    }
   ],
   "source": [
    "vec_v2=vec_v1@matrix_a\n",
    "print(vec_v2)"
   ]
  },
  {
   "cell_type": "markdown",
   "id": "1740ed65-dfbd-4f84-9c8f-0c373fcc7c1c",
   "metadata": {},
   "source": [
    "The proportion of species A only and species B only have increased, the amount of coexietence has decreased.  Note we would have gotten the same answer by using a matirx power.\n",
    "\n",
    "$$\n",
    "\\vec{V}(2)=\\vec{V}(0).\\mathbf{P}^2\n",
    "$$"
   ]
  },
  {
   "cell_type": "code",
   "execution_count": 21,
   "id": "dcd15ef6-18c1-4978-93a1-356964d8e5f7",
   "metadata": {},
   "outputs": [],
   "source": [
    "vec_v@matrix_power(matrix_a, 2)\n",
    "#Saving the value of the matrix\n",
    "matrix_a2=matrix_power(matrix_a, 2)"
   ]
  },
  {
   "cell_type": "markdown",
   "id": "5a799194-8ad2-4000-ae8d-a494ceb301b2",
   "metadata": {},
   "source": [
    "This is also more convenient as the number of generations increases:"
   ]
  },
  {
   "cell_type": "code",
   "execution_count": 15,
   "id": "46a11c0e-0c75-48d4-a445-257c277f3608",
   "metadata": {},
   "outputs": [
    {
     "name": "stdout",
     "output_type": "stream",
     "text": [
      "[[0.496 0.38  0.124]]\n"
     ]
    }
   ],
   "source": [
    "vec_v3=vec_v@matrix_power(matrix_a, 3)\n",
    "#Saving the value of the matrix\n",
    "matrix_a3=matrix_power(matrix_a, 3)\n",
    "print(vec_v3)"
   ]
  },
  {
   "cell_type": "markdown",
   "id": "063f28f8-d235-4655-b609-3bbe3154e958",
   "metadata": {},
   "source": [
    "**2. Use the Chapman-Kolmogorov equation to calculate the probability of being in state 1 (species A only) in 5 years.**"
   ]
  },
  {
   "cell_type": "markdown",
   "id": "263b10a8-a8cf-4a69-a07d-b08454cbe2f8",
   "metadata": {},
   "source": [
    "We have the 2-step matrix (matrix_a2) and the three step matrix (matrix_a3), given that we started in state 2 (see initial vector), we can calculate the probability of being in state 1 after generation 5 by:\n",
    "\n",
    "$$\n",
    "\\Pr(X_5=2)=\\sum_k p^{(2)}_{2,k}p^{(3)}_{k,1}\n",
    "$$\n",
    "\n",
    "**important note** Python indexes from 0, which means we want to sum over the '1' row of $P^2$ and the '0' column of $P^3$"
   ]
  },
  {
   "cell_type": "code",
   "execution_count": 23,
   "id": "a8e2d95b-3217-446d-a31c-285b8d363118",
   "metadata": {},
   "outputs": [
    {
     "data": {
      "text/plain": [
       "0.12495999999999999"
      ]
     },
     "execution_count": 23,
     "metadata": {},
     "output_type": "execute_result"
    }
   ],
   "source": [
    "np.sum(matrix_a2[1, :]*matrix_a3[ :,0])"
   ]
  },
  {
   "cell_type": "markdown",
   "id": "622dc87a-a730-4920-9047-f480fb9c16b5",
   "metadata": {},
   "source": [
    "Checking our answer using matrix powers:"
   ]
  },
  {
   "cell_type": "code",
   "execution_count": 25,
   "id": "5e2a2b6d-6b56-4534-8027-453d91b2899c",
   "metadata": {},
   "outputs": [
    {
     "data": {
      "text/plain": [
       "array([[0.49984, 0.3752 , 0.12496]])"
      ]
     },
     "execution_count": 25,
     "metadata": {},
     "output_type": "execute_result"
    }
   ],
   "source": [
    "vec_v@matrix_power(matrix_a, 5)"
   ]
  }
 ],
 "metadata": {
  "kernelspec": {
   "display_name": "Python 3 (ipykernel)",
   "language": "python",
   "name": "python3"
  },
  "language_info": {
   "codemirror_mode": {
    "name": "ipython",
    "version": 3
   },
   "file_extension": ".py",
   "mimetype": "text/x-python",
   "name": "python",
   "nbconvert_exporter": "python",
   "pygments_lexer": "ipython3",
   "version": "3.11.6"
  }
 },
 "nbformat": 4,
 "nbformat_minor": 5
}
