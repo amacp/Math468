{
 "cells": [
  {
   "cell_type": "markdown",
   "id": "74412a7e-bcb6-4a1f-ad75-1399dbe00a02",
   "metadata": {},
   "source": [
    "# Lecture 5_1: Stationary Distributions of CTDS processes"
   ]
  },
  {
   "cell_type": "code",
   "execution_count": 4,
   "id": "1c58dc84-b474-41ed-b5ea-e3e8abdaad92",
   "metadata": {},
   "outputs": [],
   "source": [
    "import numpy as np\n",
    "import math\n",
    "import matplotlib.pyplot as plt\n",
    "import random\n",
    "from scipy.special import comb"
   ]
  },
  {
   "cell_type": "markdown",
   "id": "419c6683-c90e-4824-b6f9-df42070ba281",
   "metadata": {},
   "source": [
    "****\n",
    "<span style=\"color:red;\">**Example: 5.4** Species coexistence  in continuous time cont</span>\n",
    "\n",
    "**Using the transition rate matrix above:**\n",
    "$$\n",
    "\\mathbf{Q}=\\begin{bmatrix} \n",
    "-c_B & c_B & 0\\\\ \n",
    "e_B &-(e_B+e_A) & e_A\\\\\n",
    "0 & c_A & - c_A\\\\\n",
    "\\end{bmatrix}\n",
    "$$\n",
    "**and letting** \n",
    "$$ \n",
    "c_B=0.3\\frac{1}{\\text{year}}\\quad c_A=0.1\\frac{1}{\\text{year}}\\quad e_B=0.25\\frac{1}{\\text{year}}\\quad e_A=0.01\\frac{1}{\\text{year}}\n",
    "$$\n",
    "**1. What is the probability of going from state 2 to state 1 in the long term?**"
   ]
  },
  {
   "cell_type": "code",
   "execution_count": 8,
   "id": "c1706c2c-9011-4038-837f-24b030bc44dc",
   "metadata": {},
   "outputs": [],
   "source": [
    "QMtrx=np.array([[-0.3,0.3,0],[0.25,-0.26,0.01],[0,0.1,-0.1]])"
   ]
  },
  {
   "cell_type": "code",
   "execution_count": 9,
   "id": "3c2e4d20-3d10-401f-abfa-dee3dcc3d892",
   "metadata": {},
   "outputs": [],
   "source": [
    "eigenvalues, eigenvectors = np.linalg.eig(QMtrx)"
   ]
  },
  {
   "cell_type": "code",
   "execution_count": 33,
   "id": "68f3852a-789d-4094-8612-c760123ef183",
   "metadata": {},
   "outputs": [
    {
     "data": {
      "text/plain": [
       "array([-0.5556, -0.    , -0.1044])"
      ]
     },
     "execution_count": 33,
     "metadata": {},
     "output_type": "execute_result"
    }
   ],
   "source": [
    "np.round(eigenvalues,4)"
   ]
  },
  {
   "cell_type": "markdown",
   "id": "36d3c762-bfae-4422-945e-5d905d10e787",
   "metadata": {},
   "source": [
    "The second eigenvalues is the leading eigenvalue"
   ]
  },
  {
   "cell_type": "code",
   "execution_count": 21,
   "id": "e5ffeaf3-dfb0-4669-983a-26d99ef701ac",
   "metadata": {},
   "outputs": [],
   "source": [
    "A=eigenvectors\n",
    "D=np.diag(eigenvalues)\n",
    "AInv=np.linalg.inv(A)"
   ]
  },
  {
   "cell_type": "markdown",
   "id": "a018be36-9536-4373-b81f-d8f40cf2076b",
   "metadata": {},
   "source": [
    "Double checking our decomposition"
   ]
  },
  {
   "cell_type": "code",
   "execution_count": 23,
   "id": "e207ba20-3b29-4e0b-823a-df4de37a1381",
   "metadata": {},
   "outputs": [
    {
     "data": {
      "text/plain": [
       "array([[-0.3 ,  0.3 , -0.  ],\n",
       "       [ 0.25, -0.26,  0.01],\n",
       "       [ 0.  ,  0.1 , -0.1 ]])"
      ]
     },
     "execution_count": 23,
     "metadata": {},
     "output_type": "execute_result"
    }
   ],
   "source": [
    "np.round(A@D@AInv,4)"
   ]
  },
  {
   "cell_type": "markdown",
   "id": "9d6b962c-6c2b-468e-943d-e4fce28708f2",
   "metadata": {},
   "source": [
    "The eigenvectors"
   ]
  },
  {
   "cell_type": "code",
   "execution_count": 59,
   "id": "5e409120-dc9f-431a-a731-d6841711eec9",
   "metadata": {},
   "outputs": [
    {
     "name": "stdout",
     "output_type": "stream",
     "text": [
      "[1. 1. 1.]\n"
     ]
    }
   ],
   "source": [
    "u1=A[:,1]\n",
    "## Normalizing the vector so EACH value is 1\n",
    "u1=A[:,1]/A[1,1]\n",
    "print(u1)"
   ]
  },
  {
   "cell_type": "code",
   "execution_count": 60,
   "id": "d7298c44-dc41-4e91-86a2-461309394f87",
   "metadata": {},
   "outputs": [
    {
     "name": "stdout",
     "output_type": "stream",
     "text": [
      "[0.43103448 0.51724138 0.05172414]\n"
     ]
    }
   ],
   "source": [
    "## Normalizing the vector so the values sum to 1\n",
    "v1=AInv[1]/np.sum(AInv[1])\n",
    "print(v1)"
   ]
  },
  {
   "cell_type": "markdown",
   "id": "c7695246-dc0b-4c6c-80d8-002b05345bbb",
   "metadata": {},
   "source": [
    "Calculating $\\mathbf{P}$ (note that due to the normalization above each row sums to 1 as it should for a transition probability matrix)"
   ]
  },
  {
   "cell_type": "code",
   "execution_count": 61,
   "id": "b84e0ae1-e132-42a3-9b5f-27a7d90de033",
   "metadata": {},
   "outputs": [
    {
     "data": {
      "text/plain": [
       "array([[0.43103448, 0.51724138, 0.05172414],\n",
       "       [0.43103448, 0.51724138, 0.05172414],\n",
       "       [0.43103448, 0.51724138, 0.05172414]])"
      ]
     },
     "execution_count": 61,
     "metadata": {},
     "output_type": "execute_result"
    }
   ],
   "source": [
    "np.outer(u1,v1)"
   ]
  },
  {
   "cell_type": "markdown",
   "id": "773871e4-1c82-4617-a734-9d9998fa4792",
   "metadata": {},
   "source": [
    "The probability of going from state 2 to state 1 over a very long time is $0.43$"
   ]
  },
  {
   "cell_type": "markdown",
   "id": "a1bad158-8dc1-4432-b88d-1388dc4ce60e",
   "metadata": {},
   "source": [
    "**2. What is the long-term probability of ending up in state 1?**"
   ]
  },
  {
   "cell_type": "markdown",
   "id": "4fbc621d-6001-4937-93b0-07c15b8d823a",
   "metadata": {},
   "source": [
    "Note that each row is the same, this is because in the long term, the starting condition doesn't matter.  This implies that each row (which is given by $\\vec{v}_1$) is the stationary distribution.  Hence, the long-term probability of ending up in state 1 is also $0.43$.\n",
    "****"
   ]
  }
 ],
 "metadata": {
  "kernelspec": {
   "display_name": "Python 3 (ipykernel)",
   "language": "python",
   "name": "python3"
  },
  "language_info": {
   "codemirror_mode": {
    "name": "ipython",
    "version": 3
   },
   "file_extension": ".py",
   "mimetype": "text/x-python",
   "name": "python",
   "nbconvert_exporter": "python",
   "pygments_lexer": "ipython3",
   "version": "3.11.6"
  }
 },
 "nbformat": 4,
 "nbformat_minor": 5
}
