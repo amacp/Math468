{
 "cells": [
  {
   "cell_type": "markdown",
   "id": "a9a697fd-5707-4dc1-b14a-add49ffe88d7",
   "metadata": {},
   "source": [
    "# Lecture 5_8: Birth-Death Models"
   ]
  },
  {
   "cell_type": "code",
   "execution_count": 156,
   "id": "3a839aeb-57f9-420c-b818-7551646cec97",
   "metadata": {},
   "outputs": [],
   "source": [
    "import numpy as np\n",
    "from scipy.integrate import odeint\n",
    "import matplotlib.pyplot as plt\n",
    "import random as rand"
   ]
  },
  {
   "cell_type": "markdown",
   "id": "1cde4d45-b882-4fd3-9f4c-248f7496045c",
   "metadata": {},
   "source": [
    "## Example 5.18: The Yule Model\n",
    "\n",
    "**1. Simulate the Yule process with $\\lambda=1$ for $T=1.5$ units of time. Sketch the corresponding tree.**"
   ]
  },
  {
   "cell_type": "code",
   "execution_count": 158,
   "id": "f1e44a3a-e749-4952-907d-260a542cfbec",
   "metadata": {},
   "outputs": [],
   "source": [
    "def SimYule(lam,tMax):\n",
    "    #initialization\n",
    "    t=0;\n",
    "    C=np.array([[0]]);\n",
    "    n=C.shape[0]\n",
    "    rateTot=lam*n\n",
    "    Deltat=np.random.exponential(scale=1/rateTot);\n",
    "    t=t+Deltat\n",
    "    while t<tMax:\n",
    "        C=C+np.identity(n)*Deltat #Update time\n",
    "        par=rand.random_integer = random.randint(0, n - 1) #Choose parent\n",
    "        C=np.vstack([C, C[par]]) # Add parental row\n",
    "        C=np.hstack([C,C[:,par].reshape(-1, 1)]) # Add parental column\n",
    "        n=C.shape[0] # Update n\n",
    "        rateTot=lam*n # Calculate new rate\n",
    "        Deltat=np.random.exponential(scale=1/rateTot); # Choose next branching time\n",
    "        t=t+Deltat \n",
    "    C=C+np.identity(n)*Deltat #Add terminal branches\n",
    "    return C"
   ]
  },
  {
   "cell_type": "code",
   "execution_count": 161,
   "id": "f79f2b21-f177-4745-81ca-9132be8993b9",
   "metadata": {},
   "outputs": [],
   "source": [
    "test=SimYule(1,1.5)"
   ]
  },
  {
   "cell_type": "code",
   "execution_count": 162,
   "id": "07841d0b-ecb4-4d5b-87ba-70e0a870141f",
   "metadata": {},
   "outputs": [
    {
     "data": {
      "text/plain": [
       "array([[1.61, 0.17, 0.45, 0.77, 0.77],\n",
       "       [0.17, 1.61, 0.17, 0.17, 0.17],\n",
       "       [0.45, 0.17, 1.61, 0.45, 0.45],\n",
       "       [0.77, 0.17, 0.45, 1.61, 1.44],\n",
       "       [0.77, 0.17, 0.45, 1.44, 1.61]])"
      ]
     },
     "execution_count": 162,
     "metadata": {},
     "output_type": "execute_result"
    }
   ],
   "source": [
    "np.round(test,2)"
   ]
  },
  {
   "cell_type": "markdown",
   "id": "d39e7368-6c97-4cd8-a117-cc3b7652d00c",
   "metadata": {},
   "source": [
    "The matrix generated above is random, but for one example:\n",
    "\n",
    "$$\\mathbf{C}=\\begin{bmatrix}\n",
    "2.8 & 0.7 & 0.7 \\\\\n",
    "0.7 & 2.8 & 0.9 \\\\\n",
    "0.7 & 0.9 & 2.8 \\\\\n",
    "\\end{bmatrix}$$\n",
    "\n",
    "The first branching event occurs after 0.7 units of time between lineages A and B. Then there is a branching event between lineages 2 and 3 at time 0.9 (so 0.2 units of time after the first).  Finally the terminal branches last until time 2.8\n"
   ]
  },
  {
   "cell_type": "markdown",
   "id": "b123e799-84c0-469e-b6ee-357e6bb825f2",
   "metadata": {},
   "source": [
    "**2. Draw the \"Lineage Through Time\" plot for your simulation**\n",
    "\n",
    "Again let's use one specific example of the matrix:\n",
    "\n",
    "$$\n",
    "\\mathbf{C}=\n",
    "\\begin{bmatrix}\n",
    "1.53 & 0.22 & 0.22 & 0.92 & 0.22 & 0.92 & 0.22 \\\\\n",
    "0.22 & 1.53 & 0.78 & 0.22 & 0.96 & 0.22 & 0.78 \\\\\n",
    "0.22 & 0.78 & 1.53 & 0.22 & 0.78 & 0.22 & 1.16 \\\\\n",
    "0.92 & 0.22 & 0.22 & 1.53 & 0.22 & 1.08 & 0.22 \\\\\n",
    "0.22 & 0.96 & 0.78 & 0.22 & 1.53 & 0.22 & 0.78 \\\\\n",
    "0.92 & 0.22 & 0.22 & 1.08 & 0.22 & 1.53 & 0.22 \\\\\n",
    "0.22 & 0.78 & 1.16 & 0.22 & 0.78 & 0.22 & 1.53 \\\\\n",
    "\\end{bmatrix}\n",
    "$$\n",
    "\n",
    "The lineage through time plot, captures the number of lineages present in the tree at time $t$, one way to ask is how many branching events have occurred before time $t$.   We can extract the branching events by looking at the unique upper-triangle elements of $\\mathbf{C}$."
   ]
  },
  {
   "cell_type": "code",
   "execution_count": 145,
   "id": "a01df6e6-f9b5-45dc-b56f-a18b3be3333e",
   "metadata": {},
   "outputs": [
    {
     "name": "stdout",
     "output_type": "stream",
     "text": [
      "[0.   0.22 0.78 0.92 0.96 1.08 1.16]\n"
     ]
    }
   ],
   "source": [
    "Cex=np.array([[1.53, 0.22, 0.22, 0.92, 0.22, 0.92, 0.22],\n",
    "       [0.22, 1.53, 0.78, 0.22, 0.96, 0.22, 0.78],\n",
    "       [0.22, 0.78, 1.53, 0.22, 0.78, 0.22, 1.16],\n",
    "       [0.92, 0.22, 0.22, 1.53, 0.22, 1.08, 0.22],\n",
    "       [0.22, 0.96, 0.78, 0.22, 1.53, 0.22, 0.78],\n",
    "       [0.92, 0.22, 0.22, 1.08, 0.22, 1.53, 0.22],\n",
    "       [0.22, 0.78, 1.16, 0.22, 0.78, 0.22, 1.53]])\n",
    "# Extract unique upper triangle elements\n",
    "branchingTimes = np.triu(Cex, k=1).flatten()\n",
    "\n",
    "# Get unique elements\n",
    "branchingTimes = np.sort(np.unique(branchingTimes))\n",
    "print(branchingTimes)\n",
    "y_vec=np.arange(branchingTimes.size);"
   ]
  },
  {
   "cell_type": "code",
   "execution_count": 147,
   "id": "019abef0-1971-4a72-ac64-3c60570787ca",
   "metadata": {},
   "outputs": [
    {
     "data": {
      "text/plain": [
       "Text(0, 0.5, 'Number of Lineages')"
      ]
     },
     "execution_count": 147,
     "metadata": {},
     "output_type": "execute_result"
    },
    {
     "data": {
      "image/png": "[encoded data removed]",
      "text/plain": [
       "<Figure size 640x480 with 1 Axes>"
      ]
     },
     "metadata": {},
     "output_type": "display_data"
    }
   ],
   "source": [
    "plt.step(branchingTimes,y_vec)\n",
    "plt.xlabel('Time')\n",
    "plt.ylabel('Number of Lineages')"
   ]
  },
  {
   "cell_type": "markdown",
   "id": "5a2bdf82-2c92-4dea-9421-370f2cfa1117",
   "metadata": {},
   "source": [
    "## Example 5.19: Birth Death Model\n",
    "\n",
    "**1. Simulate the Birth Death process with $\\lambda=1.5$ $\\mu=0.5$ for $T=1.5$ units of time. Sketch the corresponding tree.**\n",
    "\n",
    "We can simulate the process in two ways, in the first method we don't keep track of extinct lineages."
   ]
  },
  {
   "cell_type": "code",
   "execution_count": 187,
   "id": "37c2b5ba-528e-42fa-aa08-d62cc3cc811b",
   "metadata": {},
   "outputs": [],
   "source": [
    "def SimBD1(lam,mu,tMax):\n",
    "    #initialization\n",
    "    t=0;\n",
    "    C=np.array([[0]]);\n",
    "    n=C.shape[0]\n",
    "    rateTot=(lam+mu)*n\n",
    "    Deltat=np.random.exponential(scale=1/rateTot);\n",
    "    t=t+Deltat\n",
    "    while t<tMax and n>0:\n",
    "        C=C+np.identity(n)*Deltat #Update time\n",
    "        par=rand.random_integer = random.randint(0, n - 1) #Choose parent/ind to die\n",
    "        if rand.random()<lam*n/rateTot: #Birth event\n",
    "            C=np.vstack([C, C[par]]) # Add parental row\n",
    "            C=np.hstack([C,C[:,par].reshape(-1, 1)]) # Add parental column\n",
    "        else: \n",
    "            C=np.delete(C, par, axis=0)\n",
    "            C=np.delete(C, par, axis=1)\n",
    "        n=C.shape[0] # Update n\n",
    "        rateTot=(lam+mu)*n # Calculate new rate\n",
    "        Deltat=np.random.exponential(scale=1/rateTot); # Choose next branching time\n",
    "        t=t+Deltat \n",
    "    C=C+np.identity(n)*Deltat #Add terminal branches\n",
    "    return C"
   ]
  },
  {
   "cell_type": "code",
   "execution_count": 190,
   "id": "2863f2a2-74d8-4e67-b416-7cf032af892b",
   "metadata": {},
   "outputs": [],
   "source": [
    "test=SimBD1(1.5,0.5,1.5)"
   ]
  },
  {
   "cell_type": "code",
   "execution_count": 191,
   "id": "7af17706-316b-43c1-b364-818eb7a2b187",
   "metadata": {},
   "outputs": [
    {
     "data": {
      "text/plain": [
       "array([[1.62038768, 0.15374953, 1.10176968, 1.10176968],\n",
       "       [0.15374953, 1.62038768, 0.15374953, 0.15374953],\n",
       "       [1.10176968, 0.15374953, 1.62038768, 1.16546245],\n",
       "       [1.10176968, 0.15374953, 1.16546245, 1.62038768]])"
      ]
     },
     "execution_count": 191,
     "metadata": {},
     "output_type": "execute_result"
    }
   ],
   "source": [
    "test"
   ]
  },
  {
   "cell_type": "code",
   "execution_count": 284,
   "id": "74c7336e-1701-4d2c-a69f-2c5c7c38770e",
   "metadata": {},
   "outputs": [],
   "source": [
    "def SimBD2(lam,mu,tMax):\n",
    "    #initialization\n",
    "    t=0;\n",
    "    C=np.array([[0]]);\n",
    "    V=[1];# vector of lineages 1: extant, 0: extinct\n",
    "    pos=[index for index, value in enumerate(V) if value == 1]\n",
    "    n=np.size(pos)\n",
    "    rateTot=(lam+mu)*n\n",
    "    Deltat=np.random.exponential(scale=1/rateTot);\n",
    "    t=t+Deltat\n",
    "    while t<tMax and n>0:\n",
    "        C=C+np.diag(V)*Deltat #Update time\n",
    "        par=np.random.choice(pos) #Choose parent/ind to die\n",
    "        if rand.random()<lam*n/rateTot: #Birth event\n",
    "            C=np.vstack([C, C[par]]) # Add parental row\n",
    "            C=np.hstack([C,C[:,par].reshape(-1, 1)]) # Add parental column\n",
    "            V=np.append(V, 1)\n",
    "        else: \n",
    "            V[par]=0;\n",
    "        pos=[index for index, value in enumerate(V) if value == 1]\n",
    "        n=np.size(pos)\n",
    "        rateTot=(lam+mu)*n # Calculate new rate\n",
    "        if n>0:\n",
    "            Deltat=np.random.exponential(scale=1/rateTot); # Choose next branching time\n",
    "        else:\n",
    "            Deltat=tMax-t\n",
    "        t=t+Deltat\n",
    "    C=C+np.diag(V)*Deltat #Update time\n",
    "    return C"
   ]
  },
  {
   "cell_type": "code",
   "execution_count": 289,
   "id": "a8981a43-133b-4ed6-b8d1-010b9b276068",
   "metadata": {},
   "outputs": [],
   "source": [
    "test=SimBD2(1,0.5,1.5)"
   ]
  },
  {
   "cell_type": "code",
   "execution_count": 290,
   "id": "b7c522dd-26da-44ed-a3d7-b3456055718c",
   "metadata": {},
   "outputs": [
    {
     "data": {
      "text/plain": [
       "array([[1.65311033, 0.75840448, 0.75840448],\n",
       "       [0.75840448, 1.0737496 , 1.05119876],\n",
       "       [0.75840448, 1.05119876, 1.65311033]])"
      ]
     },
     "execution_count": 290,
     "metadata": {},
     "output_type": "execute_result"
    }
   ],
   "source": [
    "test"
   ]
  },
  {
   "cell_type": "code",
   "execution_count": null,
   "id": "f39bd6bd-143a-4008-8ff7-1d7c8c3233bd",
   "metadata": {},
   "outputs": [],
   "source": []
  },
  {
   "cell_type": "code",
   "execution_count": null,
   "id": "1694f06f-4c30-4c35-83cc-cadd62f19c1b",
   "metadata": {},
   "outputs": [],
   "source": []
  }
 ],
 "metadata": {
  "kernelspec": {
   "display_name": "Python 3 (ipykernel)",
   "language": "python",
   "name": "python3"
  },
  "language_info": {
   "codemirror_mode": {
    "name": "ipython",
    "version": 3
   },
   "file_extension": ".py",
   "mimetype": "text/x-python",
   "name": "python",
   "nbconvert_exporter": "python",
   "pygments_lexer": "ipython3",
   "version": "3.11.6"
  }
 },
 "nbformat": 4,
 "nbformat_minor": 5
}
