{
 "cells": [
  {
   "cell_type": "markdown",
   "id": "eef917de-68c8-491a-98bb-425ea0001245",
   "metadata": {},
   "source": [
    "# Lecture 2_3: The Wright-Fisher Model\n",
    "\n",
    "## Example 2.11\n",
    "**1. Find the stationary distribution of the WF model with mutation given $u=v=0.05$ & $N=6$.**\n",
    "\n",
    "From last lecture we have"
   ]
  },
  {
   "cell_type": "code",
   "execution_count": 1,
   "id": "9924ca15-2fe4-45cd-9109-d1d12a3896c1",
   "metadata": {},
   "outputs": [],
   "source": [
    "import numpy as np\n",
    "\n",
    "def wright_fisher_mu_transition_matrix(N,u,v):\n",
    "    \"\"\"\n",
    "    Generate the transition probability matrix for the Wright-Fisher model.\n",
    "\n",
    "    Parameters:\n",
    "    - N: Population size\n",
    "    - u: mutation rate from 'A'->'a'\n",
    "    - v: mutation rate from 'a'->'A'\n",
    "\n",
    "    Returns:\n",
    "    - P: Transition probability matrix\n",
    "    \"\"\"\n",
    "\n",
    "    P = np.zeros((N+1, N+1)) #Matrix of 0s\n",
    "\n",
    "    for i in range(N+1):\n",
    "        for j in range(N+1):\n",
    "            x=i/N*(1-u)+(1 - i/N)*v\n",
    "            y=i/N*(u)+(1 - i/N)*(1-v)\n",
    "            P[i, j] = (np.math.comb(N, j) * (x ** j) * (y ** (N - j)))\n",
    "\n",
    "    return P"
   ]
  },
  {
   "cell_type": "code",
   "execution_count": 38,
   "id": "a79f5d4b-f2ce-4d30-9250-544bfa096a45",
   "metadata": {},
   "outputs": [],
   "source": [
    "t_matrix=wright_fisher_mu_transition_matrix(6,0.05,0.05)"
   ]
  },
  {
   "cell_type": "markdown",
   "id": "2e08d5e5-1d9a-4672-932e-9531d5439b26",
   "metadata": {},
   "source": [
    "We have to obtain the eigensystem:"
   ]
  },
  {
   "cell_type": "code",
   "execution_count": 39,
   "id": "926d4871-2563-458e-813b-8a4f6822d920",
   "metadata": {},
   "outputs": [
    {
     "name": "stdout",
     "output_type": "stream",
     "text": [
      "[1.         0.9        0.675      0.405      0.18225    0.054675\n",
      " 0.00820125]\n"
     ]
    }
   ],
   "source": [
    "eigenvalues, eigenvectors = np.linalg.eig(t_matrix)\n",
    "print(eigenvalues)"
   ]
  },
  {
   "cell_type": "markdown",
   "id": "3591fb1b-914e-4286-94bd-e4077178dc7b",
   "metadata": {},
   "source": [
    "Note taht eigevectors here is a matrix where each column is an eigenvector. I.e. it is the matrix $A$ in $A.D.A^{-1}$"
   ]
  },
  {
   "cell_type": "code",
   "execution_count": 40,
   "id": "60a90c4a-7cae-4d01-977c-16216a9f96e8",
   "metadata": {},
   "outputs": [
    {
     "data": {
      "text/plain": [
       "array([0.37796447, 0.37796447, 0.37796447, 0.37796447, 0.37796447,\n",
       "       0.37796447, 0.37796447])"
      ]
     },
     "execution_count": 40,
     "metadata": {},
     "output_type": "execute_result"
    }
   ],
   "source": [
    "eigenvectors[:,0]"
   ]
  },
  {
   "cell_type": "code",
   "execution_count": 41,
   "id": "8a65c0c7-780d-4530-9767-74e558ca4ed0",
   "metadata": {},
   "outputs": [
    {
     "data": {
      "text/plain": [
       "array([0.37796447, 0.37796447, 0.37796447, 0.37796447, 0.37796447,\n",
       "       0.37796447, 0.37796447])"
      ]
     },
     "execution_count": 41,
     "metadata": {},
     "output_type": "execute_result"
    }
   ],
   "source": [
    "t_matrix@eigenvectors[:,0]"
   ]
  },
  {
   "cell_type": "markdown",
   "id": "fc15e942-9da8-488f-9144-33bac1ac73a9",
   "metadata": {},
   "source": [
    "The eigenvectors above are the left eigenvectors, we want the right eigenvectors (i.e., the rows of $A^{-1}$):"
   ]
  },
  {
   "cell_type": "code",
   "execution_count": 42,
   "id": "103dae18-4a54-464a-965a-8a173f14eb62",
   "metadata": {},
   "outputs": [],
   "source": [
    "rightEVs=np.linalg.inv(eigenvectors);"
   ]
  },
  {
   "cell_type": "code",
   "execution_count": 43,
   "id": "1a54bdf6-9564-4037-b305-bc2eda033f8d",
   "metadata": {},
   "outputs": [
    {
     "data": {
      "text/plain": [
       "array([0.47820931, 0.37065865, 0.31906156, 0.30989228, 0.31906156,\n",
       "       0.37065865, 0.47820931])"
      ]
     },
     "execution_count": 43,
     "metadata": {},
     "output_type": "execute_result"
    }
   ],
   "source": [
    "rightEVs[0]@t_matrix"
   ]
  },
  {
   "cell_type": "markdown",
   "id": "9bb75861-6adf-4d5d-bbb6-a46d7c487a43",
   "metadata": {},
   "source": [
    "The probabilities have to sum to $1$ so we normalize the length of the eigevector in this fashion."
   ]
  },
  {
   "cell_type": "code",
   "execution_count": 44,
   "id": "41bb0071-1a6c-4528-9e1d-763bd8bdf61d",
   "metadata": {},
   "outputs": [
    {
     "data": {
      "text/plain": [
       "array([0.18074613, 0.1400958 , 0.12059393, 0.11712827, 0.12059393,\n",
       "       0.1400958 , 0.18074613])"
      ]
     },
     "execution_count": 44,
     "metadata": {},
     "output_type": "execute_result"
    }
   ],
   "source": [
    "rightEVs[0]/np.sum(rightEVs[0])"
   ]
  },
  {
   "cell_type": "markdown",
   "id": "d3683032-7737-46b9-9165-09e869b8a047",
   "metadata": {},
   "source": [
    "This says that the probability that the allele is in $0,1,2,\\dots N$ copies after a loooong time is approximately equal."
   ]
  },
  {
   "cell_type": "markdown",
   "id": "7bdaa46f-3bd0-433e-98b7-2b9d9f5067f0",
   "metadata": {},
   "source": [
    "**2. Repeat this for  $u=v=0.005$.**"
   ]
  },
  {
   "cell_type": "code",
   "execution_count": 45,
   "id": "74cf6fe6-9aac-4773-abe9-3b36554d2cb4",
   "metadata": {},
   "outputs": [
    {
     "data": {
      "text/plain": [
       "array([0.43767708, 0.03348106, 0.01975149, 0.01818075, 0.01975149,\n",
       "       0.03348106, 0.43767708])"
      ]
     },
     "execution_count": 45,
     "metadata": {},
     "output_type": "execute_result"
    }
   ],
   "source": [
    "t_matrix=wright_fisher_mu_transition_matrix(6,0.005,0.005)\n",
    "eigenvalues, eigenvectors = np.linalg.eig(t_matrix)\n",
    "rightEVs=np.linalg.inv(eigenvectors);\n",
    "rightEVs[0]/np.sum(rightEVs[0])"
   ]
  },
  {
   "cell_type": "code",
   "execution_count": null,
   "id": "f99d5698-53a7-4618-93fa-7a8ccd458286",
   "metadata": {},
   "outputs": [],
   "source": []
  }
 ],
 "metadata": {
  "kernelspec": {
   "display_name": "Python 3 (ipykernel)",
   "language": "python",
   "name": "python3"
  },
  "language_info": {
   "codemirror_mode": {
    "name": "ipython",
    "version": 3
   },
   "file_extension": ".py",
   "mimetype": "text/x-python",
   "name": "python",
   "nbconvert_exporter": "python",
   "pygments_lexer": "ipython3",
   "version": "3.11.6"
  }
 },
 "nbformat": 4,
 "nbformat_minor": 5
}
