{
 "cells": [
  {
   "cell_type": "markdown",
   "id": "ccabcc0e-b72a-4751-ad7e-f0e2b197e328",
   "metadata": {},
   "source": [
    "# Lecture 6.2: Cellular Atomata"
   ]
  },
  {
   "cell_type": "code",
   "execution_count": 49,
   "id": "71bc43f3-2389-4f7f-927c-c93d65537d65",
   "metadata": {},
   "outputs": [],
   "source": [
    "import numpy as np\n",
    "import random as rand\n",
    "import matplotlib.pyplot as plt"
   ]
  },
  {
   "cell_type": "markdown",
   "id": "e5f2d2f2-d8c5-46ee-b094-e97959b70f8f",
   "metadata": {},
   "source": [
    "## 1D Contact Process"
   ]
  },
  {
   "cell_type": "markdown",
   "id": "12c34691-b22b-476b-bf54-d2b01f76627b",
   "metadata": {},
   "source": [
    "**5. Build the cellular automata model in python.**"
   ]
  },
  {
   "cell_type": "markdown",
   "id": "17b3bc64-7993-40d5-8dff-73f2748eca87",
   "metadata": {},
   "source": [
    "For the boundary conditions, we will need to use the Modulus operator: $x\\%n$ gives us the remainder of $\\frac{x}{n}$."
   ]
  },
  {
   "cell_type": "code",
   "execution_count": 9,
   "id": "1c7f2ccc-b8bf-4d44-93c5-55ebfe9e95e5",
   "metadata": {},
   "outputs": [
    {
     "data": {
      "text/plain": [
       "array([8, 9, 0, 1, 2, 3, 4, 5, 6, 7, 8, 9, 0])"
      ]
     },
     "execution_count": 9,
     "metadata": {},
     "output_type": "execute_result"
    }
   ],
   "source": [
    "np.array([c%10 for c in range(-2,11)])"
   ]
  },
  {
   "cell_type": "markdown",
   "id": "71076c7f-8987-4a45-8794-7e1c67c7d6e2",
   "metadata": {},
   "source": [
    "Now we can write the code"
   ]
  },
  {
   "cell_type": "code",
   "execution_count": 29,
   "id": "05617d63-be90-4e5e-95ec-8343eee82b60",
   "metadata": {},
   "outputs": [],
   "source": [
    "def OneDContact(beta,gamma,tMax,nCell):\n",
    "    tau=beta/nCell\n",
    "    #Initialize\n",
    "    lat=np.zeros(nCell)\n",
    "    lat[np.random.randint(0, nCell)]=1 #initial infection\n",
    "    print('Inital Array')\n",
    "    print(lat)\n",
    "    for t in range(tMax):\n",
    "        latTemp=lat; #create a temporary lattice that can be updated\n",
    "        for c in range(nCell):\n",
    "            if lat[c]==0: #focal cell is susceptible\n",
    "                n=lat[(c-1)%nCell]+lat[(c+1)%nCell]\n",
    "                if rand.random()<tau*n: # this only works if \\tau is small enough, otherwise we have to multiply by a Deltat \n",
    "                    print('infection')\n",
    "                    latTemp[c]=1 #Note that we update the temporary lattice\n",
    "            else: #focal cell is infected\n",
    "                if rand.random()<gamma:\n",
    "                    print('recovery')\n",
    "                    latTemp[c]=0\n",
    "        lat=latTemp\n",
    "        print(lat)\n",
    "    return lat"
   ]
  },
  {
   "cell_type": "code",
   "execution_count": 30,
   "id": "06a4f56c-4640-4c66-a66a-0f6759bde0d8",
   "metadata": {},
   "outputs": [
    {
     "name": "stdout",
     "output_type": "stream",
     "text": [
      "Inital Array\n",
      "[0. 0. 0. 0. 0. 0. 0. 0. 0. 1.]\n",
      "infection\n",
      "infection\n",
      "[1. 1. 0. 0. 0. 0. 0. 0. 0. 1.]\n",
      "recovery\n",
      "[0. 1. 0. 0. 0. 0. 0. 0. 0. 1.]\n",
      "infection\n",
      "infection\n",
      "recovery\n",
      "[1. 1. 1. 0. 0. 0. 0. 0. 0. 0.]\n",
      "recovery\n",
      "recovery\n",
      "recovery\n",
      "[0. 0. 0. 0. 0. 0. 0. 0. 0. 0.]\n",
      "[0. 0. 0. 0. 0. 0. 0. 0. 0. 0.]\n"
     ]
    },
    {
     "data": {
      "text/plain": [
       "array([0., 0., 0., 0., 0., 0., 0., 0., 0., 0.])"
      ]
     },
     "execution_count": 30,
     "metadata": {},
     "output_type": "execute_result"
    }
   ],
   "source": [
    "OneDContact(3,0.5,5,10)"
   ]
  },
  {
   "cell_type": "markdown",
   "id": "73068347-0cd3-4bce-a819-0a85a9369a3c",
   "metadata": {},
   "source": [
    "**6.  How does the number of infected individuals change over time? How fast does the disease spread in space?**"
   ]
  },
  {
   "cell_type": "code",
   "execution_count": 52,
   "id": "e2c56b4f-60f5-4341-ae80-db2998aaa69f",
   "metadata": {},
   "outputs": [],
   "source": [
    "def OneDContact2(beta,gamma,tMax,nCell):\n",
    "    tau=beta/nCell\n",
    "    #Initialize\n",
    "    lat=np.zeros(nCell,dtype=int)\n",
    "    lat[np.random.randint(0, nCell)]=1 #initial infectio\n",
    "    for t in range(tMax):\n",
    "        latTemp=lat; #create a temporary lattice that can be updated\n",
    "        for c in range(nCell):\n",
    "            if lat[c]==0: #focal cell is susceptible\n",
    "                n=lat[(c-1)%nCell]+lat[(c+1)%nCell]\n",
    "                if rand.random()<tau*n: # this only works if \\tau is small enough, otherwise we have to multiply by a Deltat \n",
    "                    latTemp[c]=1 #Note that we update the temporary lattice\n",
    "            else: #focal cell is infected\n",
    "                if rand.random()<gamma:\n",
    "                    latTemp[c]=0\n",
    "        lat=latTemp\n",
    "    return lat"
   ]
  },
  {
   "cell_type": "code",
   "execution_count": 76,
   "id": "801cc5b6-bdda-408a-ae5f-a00ce4efde8f",
   "metadata": {},
   "outputs": [],
   "source": [
    "# Create a dictionary to store results\n",
    "CA_dict = {}\n",
    "\n",
    "# Calculate and save results for specified indices\n",
    "for index in range(100):\n",
    "    CA_dict[index] = OneDContact2(7,0.1,30,50) #beta=3, gamma=0.1, #tMax=10, #nCell=50"
   ]
  },
  {
   "cell_type": "code",
   "execution_count": 77,
   "id": "526ca150-ff64-42e5-8dda-92cc7f4e480a",
   "metadata": {},
   "outputs": [],
   "source": [
    "finalSize=np.array([np.sum(CA_dict[index]) for index in range(100)])"
   ]
  },
  {
   "cell_type": "code",
   "execution_count": 78,
   "id": "fdc0b2d0-a8a6-4857-a4fc-6727fa83b0da",
   "metadata": {},
   "outputs": [
    {
     "data": {
      "image/png": "[encoded data removed]",
      "text/plain": [
       "<Figure size 640x480 with 1 Axes>"
      ]
     },
     "metadata": {},
     "output_type": "display_data"
    }
   ],
   "source": [
    "plt.hist(finalSize, density=True)\n",
    "# Add labels and title\n",
    "plt.xlabel('Number of Infections after t=10')\n",
    "plt.ylabel('Proportion')\n",
    "plt.title('CA SIS')\n",
    "plt.show()"
   ]
  },
  {
   "cell_type": "code",
   "execution_count": 79,
   "id": "2a38fa80-9de4-4f7f-b8c4-2688568e9e2b",
   "metadata": {},
   "outputs": [],
   "source": [
    "mtrx=CA_dict[0]\n",
    "for index in range(1,100):\n",
    "    mtrx=np.vstack([mtrx,CA_dict[index]])"
   ]
  },
  {
   "cell_type": "code",
   "execution_count": 80,
   "id": "b4bef473-4afa-4463-8e59-8d18a776e1e0",
   "metadata": {},
   "outputs": [
    {
     "data": {
      "text/plain": [
       "array([[0, 0, 0, ..., 0, 0, 0],\n",
       "       [0, 0, 0, ..., 0, 0, 0],\n",
       "       [0, 0, 0, ..., 0, 0, 0],\n",
       "       ...,\n",
       "       [0, 0, 0, ..., 0, 0, 0],\n",
       "       [1, 0, 1, ..., 1, 0, 0],\n",
       "       [0, 0, 0, ..., 0, 0, 0]])"
      ]
     },
     "execution_count": 80,
     "metadata": {},
     "output_type": "execute_result"
    }
   ],
   "source": [
    "mtrx"
   ]
  },
  {
   "cell_type": "code",
   "execution_count": 81,
   "id": "bc5839a4-72e5-4ca5-8697-12739aead833",
   "metadata": {},
   "outputs": [
    {
     "data": {
      "image/png": "[encoded data removed]",
      "text/plain": [
       "<Figure size 640x480 with 1 Axes>"
      ]
     },
     "metadata": {},
     "output_type": "display_data"
    }
   ],
   "source": [
    "plt.imshow(mtrx, cmap='viridis', interpolation='nearest')\n",
    "plt.xlabel('Indivdiual Simulations')\n",
    "plt.ylabel('Spatial Location')\n",
    "plt.title('Spatial Structure')\n",
    "plt.show()"
   ]
  },
  {
   "cell_type": "markdown",
   "id": "96bd3eba-5c32-40e9-9a64-10dfe807fc42",
   "metadata": {},
   "source": [
    "**7. How does this compare to a non-spatial stochastic model?**"
   ]
  },
  {
   "cell_type": "markdown",
   "id": "6aa607a0-a26c-43c6-835f-b8f202356477",
   "metadata": {},
   "source": [
    "We need to build a discrete-time SIS model to compare to."
   ]
  },
  {
   "cell_type": "code",
   "execution_count": 95,
   "id": "f5927318-1477-4007-a975-d67c82273b83",
   "metadata": {},
   "outputs": [],
   "source": [
    "def SIDiscrete(beta,gamma,tMax,kappa):\n",
    "    tau=beta/kappa\n",
    "    #Initialize\n",
    "    dyn=np.array([1])\n",
    "    for t in range(tMax):\n",
    "        S=kappa-np.sum(dyn[-1])\n",
    "        I=np.sum(dyn[-1])\n",
    "        nInf=np.random.binomial(n=S, p=tau*S*I) #number of new infections\n",
    "        nRec=np.random.binomial(n=I, p=gamma*I) #number of new infections\n",
    "        dyn=np.hstack([dyn,I+nInf-nRec])\n",
    "    return dyn"
   ]
  },
  {
   "cell_type": "markdown",
   "id": "4f284b5f-0629-48b4-a58f-ca1846332d67",
   "metadata": {},
   "source": [
    "The disease spreads much much faster in the unstructured population model.  As a result we have to reduce beta by several order of magnitude."
   ]
  },
  {
   "cell_type": "code",
   "execution_count": 105,
   "id": "cd304526-0e43-4913-9722-834780961e2f",
   "metadata": {},
   "outputs": [
    {
     "data": {
      "text/plain": [
       "array([1, 1, 1, 1, 1, 1, 1, 1, 1, 1, 2, 3, 2, 3, 4, 5, 6, 7, 3, 5, 2, 3,\n",
       "       4, 4, 2, 4, 8, 3, 3, 4, 6])"
      ]
     },
     "execution_count": 105,
     "metadata": {},
     "output_type": "execute_result"
    }
   ],
   "source": [
    "SIDiscrete(0.01,0.1,30,50)"
   ]
  }
 ],
 "metadata": {
  "kernelspec": {
   "display_name": "Python 3 (ipykernel)",
   "language": "python",
   "name": "python3"
  },
  "language_info": {
   "codemirror_mode": {
    "name": "ipython",
    "version": 3
   },
   "file_extension": ".py",
   "mimetype": "text/x-python",
   "name": "python",
   "nbconvert_exporter": "python",
   "pygments_lexer": "ipython3",
   "version": "3.11.6"
  }
 },
 "nbformat": 4,
 "nbformat_minor": 5
}
