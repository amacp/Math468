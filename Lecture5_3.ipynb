{
 "cells": [
  {
   "cell_type": "markdown",
   "id": "d4123b88-c04a-4a10-b688-3c8daf618903",
   "metadata": {},
   "source": [
    "# Lecture 5.3: Tree Likelihoods"
   ]
  },
  {
   "cell_type": "code",
   "execution_count": 1,
   "id": "ff7b5abe-f902-4e6d-8014-00c2abacb3de",
   "metadata": {},
   "outputs": [],
   "source": [
    "import numpy as np\n",
    "import math\n",
    "import matplotlib.pyplot as plt\n",
    "import random\n",
    "from scipy.special import comb\n",
    "from scipy.linalg import expm"
   ]
  },
  {
   "cell_type": "markdown",
   "id": "6cd138df-af34-4ba4-8321-d69908c69b83",
   "metadata": {},
   "source": [
    "## Example 5.9 Tree Likelihood"
   ]
  },
  {
   "cell_type": "markdown",
   "id": "6f559aca-f5e5-45dc-9e70-6cfbeb3aa401",
   "metadata": {},
   "source": [
    "**Parameters:**\n",
    "$$\n",
    "\\begin{aligned}\n",
    "\\mu=1.2\\\\\n",
    "t_1=0.3\\\\\n",
    "t_2=0.5\n",
    "\\end{aligned}\n",
    "$$\n",
    "\n",
    "**1.What is the likelihood of this tree given the observed sequences under the JC69 model?**\n",
    "\n",
    "To answer this we need to calculate $\\mathbf{P}(t)$ for which we need to start by stating what $\\mathbf{Q}$ is:"
   ]
  },
  {
   "cell_type": "code",
   "execution_count": 2,
   "id": "ce488ac3-6ce9-4dac-9335-11d075721ed0",
   "metadata": {},
   "outputs": [
    {
     "name": "stdout",
     "output_type": "stream",
     "text": [
      "[[-3.6  1.2  1.2  1.2]\n",
      " [ 1.2 -3.6  1.2  1.2]\n",
      " [ 1.2  1.2 -3.6  1.2]\n",
      " [ 1.2  1.2  1.2 -3.6]]\n"
     ]
    }
   ],
   "source": [
    "#Parameters\n",
    "mu=1.2\n",
    "t1=0.3;\n",
    "t2=0.5;\n",
    "#JC69\n",
    "QJC69=np.array([[-3*mu,mu,mu,mu],[mu,-3*mu,mu,mu],[mu,mu,-3*mu,mu],[mu,mu,mu,-3*mu]])\n",
    "print(QJC69)\n",
    "#Stationary distribution\n",
    "piVec=[0.25,0.25,0.25,0.25]"
   ]
  },
  {
   "cell_type": "markdown",
   "id": "5da087da-26a7-4414-aafb-58dbb968f40e",
   "metadata": {},
   "source": [
    "Luckily there is a built-in function that calculates $\\mathbf{Q}$ for us. So we have:"
   ]
  },
  {
   "cell_type": "code",
   "execution_count": 3,
   "id": "d98bedbb-8903-463d-8cc8-1fef8632220b",
   "metadata": {},
   "outputs": [],
   "source": [
    "def P(t):\n",
    "    return expm(QJC69*t)"
   ]
  },
  {
   "cell_type": "markdown",
   "id": "2feac7b5-992f-4817-af87-079ebbfa83bb",
   "metadata": {},
   "source": [
    "To test this out evaluate $P(0)$, $P(0.01)$, and $P(10)$\n",
    "\n",
    "For $P(0)$ we would expect the system to stay put."
   ]
  },
  {
   "cell_type": "code",
   "execution_count": 23,
   "id": "090477de-0c95-4fea-bfed-664d36d6b15d",
   "metadata": {},
   "outputs": [
    {
     "data": {
      "text/plain": [
       "array([[1., 0., 0., 0.],\n",
       "       [0., 1., 0., 0.],\n",
       "       [0., 0., 1., 0.],\n",
       "       [0., 0., 0., 1.]])"
      ]
     },
     "execution_count": 23,
     "metadata": {},
     "output_type": "execute_result"
    }
   ],
   "source": [
    "P(0)"
   ]
  },
  {
   "cell_type": "markdown",
   "id": "1d0b2708-1f85-433e-95ab-92ee23e56f48",
   "metadata": {},
   "source": [
    "For small $t$ we would expect the system to make only a small change"
   ]
  },
  {
   "cell_type": "code",
   "execution_count": 24,
   "id": "3a88b5c6-ab6b-4a6a-b31c-868432ef22a7",
   "metadata": {},
   "outputs": [
    {
     "data": {
      "text/plain": [
       "array([[0.96485034, 0.01171655, 0.01171655, 0.01171655],\n",
       "       [0.01171655, 0.96485034, 0.01171655, 0.01171655],\n",
       "       [0.01171655, 0.01171655, 0.96485034, 0.01171655],\n",
       "       [0.01171655, 0.01171655, 0.01171655, 0.96485034]])"
      ]
     },
     "execution_count": 24,
     "metadata": {},
     "output_type": "execute_result"
    }
   ],
   "source": [
    "P(0.01)"
   ]
  },
  {
   "cell_type": "markdown",
   "id": "d0a3d6e8-edc9-4d4a-b2e1-8f5c6f3b25d0",
   "metadata": {},
   "source": [
    "For large $t$ we are near the stationary distribution"
   ]
  },
  {
   "cell_type": "code",
   "execution_count": 25,
   "id": "a979924f-baae-4ed6-901e-3376e2585edc",
   "metadata": {},
   "outputs": [
    {
     "data": {
      "text/plain": [
       "array([[0.25, 0.25, 0.25, 0.25],\n",
       "       [0.25, 0.25, 0.25, 0.25],\n",
       "       [0.25, 0.25, 0.25, 0.25],\n",
       "       [0.25, 0.25, 0.25, 0.25]])"
      ]
     },
     "execution_count": 25,
     "metadata": {},
     "output_type": "execute_result"
    }
   ],
   "source": [
    "P(10)"
   ]
  },
  {
   "cell_type": "markdown",
   "id": "1cae9862-b941-414c-9ecd-c2a8642781c6",
   "metadata": {},
   "source": [
    "Our goal is to calculate:\n",
    "$$\n",
    "\\Pr(\\mathcal{D}|\\mathcal{T},\\Theta)=\\sum_{Y\\in\\{A,C,G,T\\}}Pr(Y) P_{Y,C}(t_1+t_2)\\sum_{X\\in\\{A,C,G,T\\}}P_{X,Y}(t_2)P_{G,X}(t_1)P_{G,X}(t_1)\n",
    "$$\n",
    "- we use the following indexes for the nucleotides $\\{T:0,C:1,A:2,G:3\\}$\n",
    "- Here $Pr(Y)$ is the probability of having state $Y$ at the root which is given by the stationary distribution $\\Pr(Y)=\\pi_Y$ assuming that evolution has occurred for a long time before ever having reached the root."
   ]
  },
  {
   "cell_type": "code",
   "execution_count": 8,
   "id": "32205ec5-cf57-4be9-95fc-5905a1511473",
   "metadata": {},
   "outputs": [
    {
     "name": "stdout",
     "output_type": "stream",
     "text": [
      "0.01823845983359636\n"
     ]
    }
   ],
   "source": [
    "Lik=np.sum([piVec[y]*P(t1+t2)[y,1]*np.sum([P(t2)[x,y]*P(t1)[3,x]*P(t1)[3,x] for x in range(4)]) for y in range(4)])\n",
    "print(Lik)"
   ]
  },
  {
   "cell_type": "markdown",
   "id": "9869e3fa-4d8a-43c7-bb9f-910fc7fca4c1",
   "metadata": {},
   "source": [
    "<span style=\"color:green;\">**Discussion:** This value is quite small.  Does this make sense?</span>"
   ]
  },
  {
   "cell_type": "markdown",
   "id": "f9e15e47-682c-4796-af67-aa16856ddcd0",
   "metadata": {},
   "source": [
    "**2.What is the probability that ancestor $Y$ is a $G$ given this tree topology and molecular model?**\n",
    "\n",
    "To calculate this we use a modified version of Bayes Theorem that allows for additional conditioning of all terms:\n",
    "\n",
    "$$\n",
    "\\Pr(A|B,C)=\\frac{\\Pr(B|A,C)\\Pr(A|C)}{\\Pr(B|C)}\n",
    "$$\n",
    "\n",
    "Here we consider a specific tree $\\mathcal{T}$ (see the tree topology above) and molecular model $\\Theta$ (JC69 with $\\mu=1.2$) so:\n",
    "\n",
    "$$\n",
    "\\Pr(Y=G|\\mathcal{D},\\mathcal{T},\\Theta)=\\frac{\\Pr(\\mathcal{D}|Y=G,\\mathcal{T},\\Theta)\\Pr(Y=G|\\mathcal{T},\\Theta)}{\\Pr(\\mathcal{D}|\\mathcal{T},\\Theta)}\n",
    "$$\n",
    "\n",
    "where $\\mathcal{D}$ is the 'data' at the tips.\n",
    "\n",
    "Here $\\Pr(Y=G|\\mathcal{T},\\Theta)=\\pi_G$ is the \"prior\" probability that the root is a G, assuming that evolution has occurred for a long time before this tree our best guess for the state is the stationary distribution of the JC69 model or $\\pi_G=\\frac{1}{4}$\n",
    "\n",
    "The denominator $\\Pr(\\mathcal{D}|\\mathcal{T},\\Theta)$ is the likelihood we calculated in the last part.\n",
    "\n",
    "Finally, $\\Pr(\\mathcal{D}|Y=G,\\mathcal{T},\\Theta)$ is very similar to the likelihood above but fixing the root state at a G\n",
    "\n",
    "$$\n",
    "\\Pr(\\mathcal{D}|Y=G,\\mathcal{T},\\Theta)=P_{\\textcolor{red}{G},C}(t_1+t_2)\\sum_{X\\in\\{A,C,G,T\\}}P_{X,\\textcolor{red}{G}}(t_2)P_{G,X}(t_1)P_{G,X}(t_1)\n",
    "$$"
   ]
  },
  {
   "cell_type": "code",
   "execution_count": 19,
   "id": "916e365e-fd0f-4fa1-9833-b85f5ed1ead4",
   "metadata": {},
   "outputs": [
    {
     "name": "stdout",
     "output_type": "stream",
     "text": [
      "[0.01705096667800147, 0.01854911398017205, 0.01705096667800147, 0.02030279199821045]\n"
     ]
    }
   ],
   "source": [
    "def LikY(y):\n",
    "    return P(t1+t2)[y,1]*np.sum([P(t2)[x,y]*P(t1)[3,x]*P(t1)[3,x] for x in range(4)])\n",
    "print([LikY(0),LikY(1),LikY(2),LikY(3)])"
   ]
  },
  {
   "cell_type": "markdown",
   "id": "01127ec7-3976-4679-932d-bfded2b2e04a",
   "metadata": {},
   "source": [
    "Now we calculate the corresponding probability that the state is $Y=y$ where we are interested in $Y=3$ in particular.\n",
    "\n",
    "As a check consider the total probability need to add up to 1."
   ]
  },
  {
   "cell_type": "code",
   "execution_count": 17,
   "id": "ff8f84e5-29b6-4ade-9076-9a9cc6174563",
   "metadata": {},
   "outputs": [
    {
     "name": "stdout",
     "output_type": "stream",
     "text": [
      "[0.2337226777037465, 0.2542582288939147, 0.2337226777037465, 0.27829641569859237]\n"
     ]
    },
    {
     "data": {
      "text/plain": [
       "1.0"
      ]
     },
     "execution_count": 17,
     "metadata": {},
     "output_type": "execute_result"
    }
   ],
   "source": [
    "def probY(y):\n",
    "    return LikY(y)*0.25/Lik\n",
    "print([probY(0),probY(1),probY(2),probY(3)])\n",
    "np.sum([probY(y) for y in range(4)])"
   ]
  },
  {
   "cell_type": "markdown",
   "id": "2df31c1a-c906-40db-a802-20a18897d70e",
   "metadata": {},
   "source": [
    "## Example 5.10 Tree Likelihood 2\n",
    "\n",
    "Here we want to use the same function as in part 1 above but now modifying the function so we can easily change the data at the tips."
   ]
  },
  {
   "cell_type": "code",
   "execution_count": 21,
   "id": "b2ffc8de-3eb8-4667-8864-b6e0636a77be",
   "metadata": {},
   "outputs": [
    {
     "name": "stdout",
     "output_type": "stream",
     "text": [
      "0.01823845983359636\n"
     ]
    }
   ],
   "source": [
    "def LikSite(data):\n",
    "    return np.sum([piVec[y]*P(t1+t2)[y,data[2]]*np.sum([P(t2)[x,y]*P(t1)[data[0],x]*P(t1)[data[1],x] for x in range(4)]) for y in range(4)])\n",
    "#Example with data from Ex 5.9\n",
    "print(LikSite([3,3,1]))"
   ]
  },
  {
   "cell_type": "markdown",
   "id": "41829f90-65e7-45c8-9e06-da73ee585c91",
   "metadata": {},
   "source": [
    "To get the likelihood of the tree with multiple states we have to multiply three of these individual site likelihoods together.\n",
    "\n",
    "Using the incies: $\\{T:0,C:1,A:2,G:3\\}$\n",
    "\n",
    "$\\[T,T,T\\]\\to\\[0,0,0\\]$, $\\[G,G,C\\]\\to\\[3,3,1\\]$, and $\\[A,C,C\\]\\to\\[2,1,1\\]$"
   ]
  },
  {
   "cell_type": "code",
   "execution_count": 22,
   "id": "d86edfda-383e-4c2c-b6cd-3d7db7d59ea7",
   "metadata": {},
   "outputs": [
    {
     "data": {
      "text/plain": [
       "4.928652094978466e-06"
      ]
     },
     "execution_count": 22,
     "metadata": {},
     "output_type": "execute_result"
    }
   ],
   "source": [
    "LikSite([0,0,0])*LikSite([3,3,1])*LikSite([2,1,1])"
   ]
  },
  {
   "cell_type": "markdown",
   "id": "20b9b0f0-7c25-45ab-84e0-0382ffd3c5ad",
   "metadata": {},
   "source": [
    "Note that this probability is really small because we are calculating $\\Pr(\\mathcal{D}|\\mathcal{T})$ and the state space of $\\mathcal{D}$ is getting very large.\n",
    "\n",
    "In this case, it is often better to calculate the log-probability (log-likelihood) so:\n",
    "\n",
    "$$\n",
    "\\begin{algined}\n",
    "\\mathcal{l}(\\mathcal{T}|\\mathcal{D})=&\\ln\\left(\\mathcal{L}(\\mathcal{T}|\\mathcal{D})\\right)=\\ln\\left(\\Pr(\\mathcal{D}|\\mathcal{T})\\right)\\\\\n",
    "=& \n",
    "\\end{aligned}\n",
    "$$"
   ]
  },
  {
   "cell_type": "code",
   "execution_count": null,
   "id": "7f4a2dbd-d927-4ac8-b7a6-424c079a5590",
   "metadata": {},
   "outputs": [],
   "source": []
  }
 ],
 "metadata": {
  "kernelspec": {
   "display_name": "Python 3 (ipykernel)",
   "language": "python",
   "name": "python3"
  },
  "language_info": {
   "codemirror_mode": {
    "name": "ipython",
    "version": 3
   },
   "file_extension": ".py",
   "mimetype": "text/x-python",
   "name": "python",
   "nbconvert_exporter": "python",
   "pygments_lexer": "ipython3",
   "version": "3.11.6"
  }
 },
 "nbformat": 4,
 "nbformat_minor": 5
}
